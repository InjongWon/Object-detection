{
  "cells": [
    {
      "cell_type": "code",
      "execution_count": 1,
      "metadata": {
        "id": "FSCSWQsJwKo2"
      },
      "outputs": [],
      "source": [
        "import torch\n",
        "import torchvision\n",
        "import torch.nn as nn\n",
        "import torch.optim as optim\n",
        "from torchvision import transforms, datasets, models\n",
        "from torch.utils.data import DataLoader, random_split\n",
        "from torch.optim.lr_scheduler import StepLR\n",
        "import matplotlib.pyplot as plt\n",
        "from sklearn.metrics import classification_report, confusion_matrix\n",
        "import numpy as np\n",
        "\n",
        "device = torch.device(\"cuda\" if torch.cuda.is_available() else \"cpu\")"
      ]
    },
    {
      "cell_type": "code",
      "execution_count": 46,
      "metadata": {
        "colab": {
          "base_uri": "https://localhost:8080/"
        },
        "id": "eESsNGOBwQYD",
        "outputId": "9935133b-0dc7-4be0-ba9e-e41f7b23eb33"
      },
      "outputs": [
        {
          "output_type": "stream",
          "name": "stdout",
          "text": [
            "Drive already mounted at /content/drive; to attempt to forcibly remount, call drive.mount(\"/content/drive\", force_remount=True).\n"
          ]
        }
      ],
      "source": [
        "from google.colab import drive\n",
        "drive.mount('/content/drive')\n",
        "\n",
        "transform = transforms.Compose([\n",
        "    transforms.Resize((224, 224)),\n",
        "    transforms.RandomHorizontalFlip(p=0.5),\n",
        "    transforms.RandomRotation(15),\n",
        "\n",
        "    transforms.ToTensor(),\n",
        "    transforms.Normalize(mean=[0.485, 0.456, 0.406],\n",
        "                         std=[0.229, 0.224, 0.225])\n",
        "])"
      ]
    },
    {
      "cell_type": "markdown",
      "metadata": {
        "id": "PHGUUxPZwOuy"
      },
      "source": []
    },
    {
      "cell_type": "code",
      "execution_count": 47,
      "metadata": {
        "id": "E9zYxXoVxixt"
      },
      "outputs": [],
      "source": [
        "mixed_folder = '/content/drive/MyDrive/mix'\n",
        "mix_data = datasets.ImageFolder(root = mixed_folder, transform = transform)"
      ]
    },
    {
      "cell_type": "code",
      "execution_count": 51,
      "metadata": {
        "id": "ppEDMHfSxmEj"
      },
      "outputs": [],
      "source": [
        "#test, train, valid with 80%, 10%, 10% accordingly.\n",
        "# total_size = len(mix_data)\n",
        "train_size = int(0.8 * len(mix_data) )\n",
        "valid_size = int(0.1 * len(mix_data) )\n",
        "test_size = len(mix_data) - train_size - valid_size\n",
        "train_data, valid_data, test_data = random_split(mix_data, [train_size, valid_size, test_size])\n",
        "\n",
        "\n",
        "\n",
        "load_train = DataLoader(train_data, batch_size=32, shuffle=True)\n",
        "load_valid = DataLoader(valid_data, batch_size=32 , shuffle=False)\n",
        "load_test = DataLoader(test_data, batch_size=32, shuffle=False)\n",
        "\n",
        "model = models.resnet18(weights='IMAGENET1K_V1')\n",
        "# model = models.resnet18(pretrained=True)\n",
        "num_features = model.fc.in_features\n",
        "model.fc = nn.Linear(num_features, 2)\n",
        "model = model.to(device)\n",
        "\n",
        "criterion = nn.CrossEntropyLoss()\n",
        "optimizer = optim.Adam(model.parameters(), lr=0.0001, weight_decay=1e-4)\n",
        "scheduler = StepLR(optimizer, step_size=5, gamma=0.1)\n",
        "\n",
        "\n",
        "def model_train(model, load_train,load_valid, total_epoch=10):\n",
        "  train_acc, valid_acc = [], []\n",
        "  train_loss, valid_loss = [], []\n",
        "  for epoch in range(total_epoch):\n",
        "    model.train()\n",
        "\n",
        "    total_loss, correct, total = 0,0,0\n",
        "\n",
        "    for inputs, labels in load_train:\n",
        "      inputs, labels = inputs.to(device), labels.to(device)\n",
        "      optimizer.zero_grad()\n",
        "\n",
        "      to_return = model(inputs)\n",
        "      loss = criterion(to_return, labels)\n",
        "      loss.backward()\n",
        "      optimizer.step()\n",
        "\n",
        "      total_loss += loss.item()\n",
        "      _, preds = torch.max(to_return, 1)\n",
        "      total += labels.size(0)\n",
        "      correct += (preds == labels).sum().item()\n",
        "\n",
        "    training_accuracy = 100 * correct/ total\n",
        "    train_acc.append(training_accuracy)\n",
        "    train_loss.append(total_loss / len(load_train))\n",
        "\n",
        "    # valid now\n",
        "\n",
        "    model.eval()\n",
        "\n",
        "    correct_val, total_val, loss_val = 0, 0 ,0\n",
        "    with torch.no_grad():\n",
        "      for inputs, labels in load_valid:\n",
        "        inputs, labels = inputs.to(device), labels.to(device)\n",
        "        to_return = model(inputs)\n",
        "        loss = criterion(to_return, labels)\n",
        "        loss_val += loss.item()\n",
        "\n",
        "        _, preds = torch.max(to_return,1)\n",
        "        total_val += labels.size(0)\n",
        "        correct_val += (preds==labels).sum().item()\n",
        "\n",
        "    validation_accuracy = 100 * correct_val / total_val\n",
        "    valid_acc.append(validation_accuracy)\n",
        "    valid_loss.append(loss_val/len(load_valid))\n",
        "\n",
        "    print(f\"Epoch {epoch+1}/{total_epoch} -> Train Acc: {training_accuracy:.2f}%, Valid Acc: {validation_accuracy:.2f}%\")\n",
        "    scheduler.step()\n",
        "\n",
        "\n",
        "  return train_acc, valid_acc, train_loss, valid_loss\n",
        ""
      ]
    },
    {
      "cell_type": "code",
      "execution_count": 52,
      "metadata": {
        "id": "hafQEiERyAv0",
        "colab": {
          "base_uri": "https://localhost:8080/"
        },
        "outputId": "278f9786-fd24-4e10-8f4b-7065bfe51106"
      },
      "outputs": [
        {
          "output_type": "stream",
          "name": "stdout",
          "text": [
            "Epoch 1/10 -> Train Acc: 78.24%, Valid Acc: 83.96%\n",
            "Epoch 2/10 -> Train Acc: 88.69%, Valid Acc: 85.03%\n",
            "Epoch 3/10 -> Train Acc: 93.75%, Valid Acc: 86.10%\n",
            "Epoch 4/10 -> Train Acc: 96.41%, Valid Acc: 84.49%\n",
            "Epoch 5/10 -> Train Acc: 97.74%, Valid Acc: 86.10%\n",
            "Epoch 6/10 -> Train Acc: 98.54%, Valid Acc: 87.17%\n",
            "Epoch 7/10 -> Train Acc: 99.33%, Valid Acc: 89.30%\n",
            "Epoch 8/10 -> Train Acc: 99.00%, Valid Acc: 87.70%\n",
            "Epoch 9/10 -> Train Acc: 99.47%, Valid Acc: 87.17%\n",
            "Epoch 10/10 -> Train Acc: 99.14%, Valid Acc: 90.37%\n"
          ]
        }
      ],
      "source": [
        "train_acc, valid_acc, train_loss, valid_loss= model_train(model,load_train, load_valid)"
      ]
    },
    {
      "cell_type": "code",
      "execution_count": 55,
      "metadata": {
        "colab": {
          "base_uri": "https://localhost:8080/",
          "height": 652
        },
        "id": "ygm8bps84pnw",
        "outputId": "2ae418d2-7cab-4285-8cd4-7009f762deb8"
      },
      "outputs": [
        {
          "output_type": "stream",
          "name": "stdout",
          "text": [
            "Accuracy: 84.13%\n",
            "Classification-Report:\n",
            "               precision    recall  f1-score   support\n",
            "\n",
            "         DBI       0.83      0.71      0.76        68\n",
            "         SDD       0.85      0.92      0.88       121\n",
            "\n",
            "    accuracy                           0.84       189\n",
            "   macro avg       0.84      0.81      0.82       189\n",
            "weighted avg       0.84      0.84      0.84       189\n",
            "\n"
          ]
        },
        {
          "output_type": "display_data",
          "data": {
            "text/plain": [
              "<Figure size 500x500 with 2 Axes>"
            ],
            "image/png": "[encoded data removed]"
          },
          "metadata": {}
        }
      ],
      "source": [
        "\n",
        "\n",
        "def evaluate(model, load_test):\n",
        "    model.eval()\n",
        "    correct, total = 0, 0\n",
        "    all_preds, all_labels = [], []\n",
        "\n",
        "    with torch.no_grad():\n",
        "        for inputs, labels in load_test:\n",
        "            inputs, labels = inputs.to(device), labels.to(device)\n",
        "            outputs = model(inputs)\n",
        "            _, preds = torch.max(outputs, 1)\n",
        "            all_preds.extend(preds.cpu().numpy())\n",
        "            all_labels.extend(labels.cpu().numpy())\n",
        "\n",
        "\n",
        "\n",
        "\n",
        "    print(f'Accuracy: {100 * np.mean(np.array(all_preds) == np.array(all_labels)):.2f}%')\n",
        "    #classfication\n",
        "    print(\"Classification-Report:\\n\", classification_report(all_labels, all_preds, target_names=[\"DBI\", \"SDD\"]))\n",
        "\n",
        "    #confusion-matrix\n",
        "    cm = confusion_matrix(all_labels, all_preds)\n",
        "    plt.figure(figsize=(5, 5))\n",
        "    plt.imshow(cm, interpolation='nearest', cmap=plt.cm.Blues)\n",
        "    plt.title('Confusion-Matrix')\n",
        "    plt.colorbar()\n",
        "    tick_marks = np.arange(2)\n",
        "    plt.xticks(tick_marks, [\"DBI\", \"SDD\"], rotation=45)\n",
        "    plt.yticks(tick_marks, [\"DBI\", \"SDD\"])\n",
        "    plt.xlabel('Predicted Label')\n",
        "    plt.ylabel('True Label')\n",
        "    plt.show()\n",
        "evaluate(model, load_test)\n",
        "\n"
      ]
    },
    {
      "cell_type": "code",
      "source": [],
      "metadata": {
        "id": "j1pugn2U-7RA"
      },
      "execution_count": null,
      "outputs": []
    }
  ],
  "metadata": {
    "colab": {
      "provenance": [],
      "gpuType": "T4"
    },
    "kernelspec": {
      "display_name": "Python 3",
      "name": "python3"
    },
    "language_info": {
      "name": "python"
    },
    "accelerator": "GPU"
  },
  "nbformat": 4,
  "nbformat_minor": 0
}